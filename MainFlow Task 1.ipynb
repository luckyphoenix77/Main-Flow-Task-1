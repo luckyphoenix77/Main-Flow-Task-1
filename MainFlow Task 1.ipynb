{
 "cells": [
  {
   "cell_type": "code",
   "execution_count": 1,
   "id": "b5d43272-a302-48c6-a5ac-1ce337bfa235",
   "metadata": {},
   "outputs": [
    {
     "name": "stdout",
     "output_type": "stream",
     "text": [
      "['Apple', 'Grape']\n",
      "['Apple', 'Grape', 'Orange']\n",
      "['Grape', 'Orange']\n",
      "['Banana', 'Orange']\n",
      "Updated List: ['Banana', 'Orange']\n"
     ]
    }
   ],
   "source": [
    "#Creating a list\n",
    "fruits = [\"Apple\", \"Grape\"]\n",
    "print(fruits)\n",
    "\n",
    "#Adding\n",
    "fruits.append(\"Orange\")\n",
    "print(fruits)\n",
    "\n",
    "#Removing\n",
    "fruits.remove(\"Apple\")\n",
    "print(fruits)\n",
    "\n",
    "#Modifying\n",
    "fruits[0] = \"Banana\"\n",
    "print(fruits)\n",
    "\n",
    "#Final output\n",
    "print(\"Updated List:\", fruits)\n",
    "\n"
   ]
  },
  {
   "cell_type": "code",
   "execution_count": 7,
   "id": "73d03e83-159b-47db-b519-5460ff455201",
   "metadata": {},
   "outputs": [
    {
     "name": "stdout",
     "output_type": "stream",
     "text": [
      "Final Dict: {'Name': 'Harsha', 'City': 'Bangalore', 'Gender': 'Male', 'city': 'Banglore'}\n"
     ]
    }
   ],
   "source": [
    "#Creating Dictionary\n",
    "Employee = {'Name' : 'Harsha', 'Age' : 25, 'City' : 'Bangalore'}\n",
    "\n",
    "#Adding Element\n",
    "Employee['Gender'] = 'Male'\n",
    "\n",
    "#Deleting\n",
    "del Employee['Age']\n",
    "\n",
    "#Modifying\n",
    "Employee['city'] = 'Banglore'\n",
    "print(\"Final Dict:\", Employee)"
   ]
  },
  {
   "cell_type": "code",
   "execution_count": 11,
   "id": "34e3d984-aaef-4708-a745-56080dd0312b",
   "metadata": {},
   "outputs": [
    {
     "name": "stdout",
     "output_type": "stream",
     "text": [
      "updated set : {1, 2, 5, 7, 77, 'apple'}\n"
     ]
    }
   ],
   "source": [
    "#Creating a set\n",
    "myset = {1,2,3,4,5,'apple'}\n",
    "\n",
    "#Add\n",
    "myset.add(7)\n",
    "\n",
    "#Remove\n",
    "myset.remove(3)\n",
    "\n",
    "#Modifying\n",
    "myset.discard(4)\n",
    "myset.add(77)\n",
    "\n",
    "print(\"updated set :\", myset)"
   ]
  }
 ],
 "metadata": {
  "kernelspec": {
   "display_name": "Python 3 (ipykernel)",
   "language": "python",
   "name": "python3"
  },
  "language_info": {
   "codemirror_mode": {
    "name": "ipython",
    "version": 3
   },
   "file_extension": ".py",
   "mimetype": "text/x-python",
   "name": "python",
   "nbconvert_exporter": "python",
   "pygments_lexer": "ipython3",
   "version": "3.12.4"
  }
 },
 "nbformat": 4,
 "nbformat_minor": 5
}
